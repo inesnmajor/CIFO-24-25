{
 "cells": [
  {
   "cell_type": "markdown",
   "metadata": {},
   "source": [
    "# Welcome to CIFO practical classes!\n",
    "\n",
    "In this first class, we'll set up everything you need to get started. We'll ensure `Python` and `pip` are installed on your computer, and if they're not, you'll be guided through the installation process. You'll also learn how to create a virtual environment, where all the necessary Python packages for the practical classes will be installed.\n",
    "\n",
    "Next, we'll introduce you to Object-Oriented Programming (or refresh key concepts if you're already familiar with OOP), as we'll be using these principles in our implementations throughout the course."
   ]
  },
  {
   "cell_type": "markdown",
   "metadata": {},
   "source": [
    "## Setup"
   ]
  },
  {
   "cell_type": "markdown",
   "metadata": {},
   "source": [
    "### Python Installation"
   ]
  },
  {
   "cell_type": "markdown",
   "metadata": {},
   "source": [
    "Make sure you have python and pip installed. Open the command line and run\n",
    "- `python --version` or `python3 --version`\n",
    "- `pip --version` or `pip3 --version`\n",
    "\n",
    "If not, install it:"
   ]
  },
  {
   "cell_type": "markdown",
   "metadata": {},
   "source": [
    "| **Step**                     | **Windows**                                                                                                                                                                        | **Mac**                                                       | **Ubuntu**                                                                                             |\n",
    "|------------------------------|----------------------------------------------------------------------------------------------------------------------------------------------------------------------------------|---------------------------------------------------------------|--------------------------------------------------------------------------------------------------------|\n",
    "| **1. Install Python**         | Go to the official [Python website](https://www.python.org/downloads/). Download Python 3.13.2 for Windows.<br> **Important**: During installation, make sure to check the box that says \"Add Python to PATH\" before clicking \"Install Now.\" This ensures that you can run Python and pip from the command line.                                                            | Run `brew install python3`                                 | Run `sudo apt update` and <br> then `sudo apt install python3`                                             |\n",
    "| **2. Verify Installation** | Verify installation by running `python3 --version` | Verify installation by running `python3 --version`         |  Verify installation by running `python3 --version`                                     |\n",
    "| **3. Verify Pip Installation** | `pip` should be automatically installed.<br> Check it out by running `pip --version`                                                                                             | `pip` should already be installed <br> Verify by running `pip3 --version` | Make sure `pip` is installed by running `pip3 --version`.                                             |\n",
    "\n"
   ]
  },
  {
   "cell_type": "markdown",
   "metadata": {},
   "source": [
    "### Virtual environment"
   ]
  },
  {
   "cell_type": "markdown",
   "metadata": {},
   "source": [
    "A **virtual environment** is an isolated workspace in Python that allows you to manage dependencies for different projects separately. This prevents conflicts between package versions and ensures that each project has its own set of libraries. Virtual environments are essential for maintaining project consistency and avoiding issues with system-wide installations.\n",
    "\n",
    "Let's start by creating a virtual environment, learn how to activate it and install the python packages we'll using for the practical classes.\n",
    "\n",
    "You are free to use whichever software you prefer, but I recommend using `venv` because it comes with python and is super easy to use. Here are the instructions for using `venv`:\n",
    "\n",
    "Create virtual environment:\n",
    "- Linux and mac: `python3 -m venv venv`\n",
    "- Windows: `python -m venv venv`\n",
    "\n",
    "Activate virtual environment:\n",
    "- Linux and mac: `source venv/bin/activate`\n",
    "- Windows: `.\\venv\\Scripts\\activate`\n",
    "\n",
    "Install the requirements:\n",
    "\n",
    "1. Activate your virtual environemnt\n",
    "2. Run `pip install -r requirements.txt` (Windows) or `pip3 install -r requirements.txt` (Linux and Mac) in the command line. **NOTE:** You must be in the same directory as the requirements file\n",
    "\n",
    "**In VSCode** - Use the virtual environment to run code in notebooks:\n",
    "1. Click on 'Select kernel' on the top right corner of the notebook\n",
    "2. Click on 'Python environments'\n",
    "3. Select `venv`"
   ]
  },
  {
   "cell_type": "markdown",
   "metadata": {},
   "source": [
    "## OOP - Object Oriented Programming\n",
    "\n",
    "### Introduction\n",
    "\n",
    "Object Oriented Programming (OOP) is a programming paradigm centered around the concepts of Classes and Objects. It enables you to create organized and reusable code.\n",
    "\n",
    "**Class:** High level blue-print that is used to generate a concrete object. A class has *attributes* and *methods*.\n",
    "- *Attributes*: the internal state of the class\n",
    "- *Methods*: actions (functions) that can be performed by objects of the class, and that can use and modify attributes\n",
    "\n",
    "**Object:** A specific instance of a class. While classes define the attributes and methods, an object has specific attribute values and can run those methods.\n",
    "\n",
    "Example:\n",
    "\n",
    "- Class Person - This is a concept that has some characteristics (attributes) and defines how some actions are performed (methods)\n",
    "- Objects: John, Sarah and Mike - actual people with specific characteristics and that can perform the actions\n",
    "\n",
    "![Class VS Object](images/class-object.jpg)"
   ]
  },
  {
   "cell_type": "code",
   "execution_count": 1,
   "metadata": {},
   "outputs": [],
   "source": [
    "class Person:\n",
    "    # Constructor to initialize attributes\n",
    "    def __init__(self, name: str, age: int, profession: str):\n",
    "        # self is a reference to the current instance of the class\n",
    "        self.name = name\n",
    "        self.age = age\n",
    "        self.profession = profession\n",
    "    \n",
    "    # Method to display the person's details\n",
    "    def introduce(self):\n",
    "        return f\"Hi, my name is {self.name}, I am {self.age} years old, and I work as a {self.profession}.\"\n",
    "    \n",
    "    # Method to celebrate birthday (increase age by 1)\n",
    "    def celebrate_birthday(self):\n",
    "        self.age += 1"
   ]
  },
  {
   "cell_type": "markdown",
   "metadata": {},
   "source": [
    "When creating an instance of a class, we often need to provide initial values for the object's attributes. These values are specified in the class’s **constructor** method, which is responsible for initializing the object with the given values.\n",
    "\n",
    "For example, when creating an instance of a `Person`, we need to define the person's `name`, `age`, and `profession`. Let’s see how we can do that:"
   ]
  },
  {
   "cell_type": "code",
   "execution_count": 2,
   "metadata": {},
   "outputs": [],
   "source": [
    "# Create instances of Person class\n",
    "john = Person(\"John\", 30, \"Engineer\")\n",
    "sarah = Person(\"Sarah\", 25, \"Doctor\")\n",
    "mike = Person(\"Mike\", 35, \"Artist\")"
   ]
  },
  {
   "cell_type": "markdown",
   "metadata": {},
   "source": [
    "We have 3 instances of a person, which represent three different people.\n",
    "\n",
    "Now let's demonstrate how methods work"
   ]
  },
  {
   "cell_type": "code",
   "execution_count": 3,
   "metadata": {},
   "outputs": [
    {
     "name": "stdout",
     "output_type": "stream",
     "text": [
      "Hi, my name is John, I am 30 years old, and I work as a Engineer.\n",
      "Hi, my name is Sarah, I am 25 years old, and I work as a Doctor.\n",
      "Hi, my name is Mike, I am 35 years old, and I work as a Artist.\n"
     ]
    }
   ],
   "source": [
    "print(john.introduce())  # John introduces himself\n",
    "print(sarah.introduce())  # Sarah introduces herself\n",
    "print(mike.introduce())  # Mike introduces himself"
   ]
  },
  {
   "cell_type": "markdown",
   "metadata": {},
   "source": [
    "The `introduce` method uses `self.<attribute_name>` to access the values of the object's attributes. This allows each object to refer to its own unique data. \n",
    "\n",
    "Since different instances of the class can have different values for their attributes (set when the objects are created), each object will print a personalized introduction statement based on its own attributes. This is why the introduction differs for each object, even though they use the same `introduce` method."
   ]
  },
  {
   "cell_type": "markdown",
   "metadata": {},
   "source": [
    "And finally, let's see how methods change the internal state of an object"
   ]
  },
  {
   "cell_type": "code",
   "execution_count": 5,
   "metadata": {},
   "outputs": [
    {
     "name": "stdout",
     "output_type": "stream",
     "text": [
      "Mike's initial age: 36\n",
      "Mike's age after his birthday: 37\n"
     ]
    }
   ],
   "source": [
    "# This is how we access an attribute of an object\n",
    "print(\"Mike's initial age:\", mike.age)\n",
    "\n",
    "# Mike celebrates his birthday\n",
    "mike.celebrate_birthday()\n",
    "\n",
    "# Mike's age after his birthday\n",
    "print(\"Mike's age after his birthday:\", mike.age)"
   ]
  },
  {
   "cell_type": "markdown",
   "metadata": {},
   "source": [
    "### Inheritance\n",
    "\n",
    "Inheritance is a pillar of OOP that allows new classes to inherit properties and methods from existing ones, promoting code reusability.\n",
    "\n",
    "When using inheritance, we have:\n",
    "\n",
    "- **Superclass**: The base class that contains general attributes and methods common to all its subclasses. It provides shared functionality that can be inherited by other classes.\n",
    "- **Subclass**: A class that inherits from a superclass. A subclass gains all the attributes and methods of its superclass but can also add or modify its own features. Multiple subclasses can inherit from the same superclass, enabling code organization and reusability.\n",
    "\n",
    "Inheritance helps reduce duplication, making the code more modular and easier to maintain.\n",
    "\n",
    "Let's look at an example:\n",
    "\n",
    "![Inheritance](images/inheritance.jpg)\n",
    "\n"
   ]
  },
  {
   "cell_type": "code",
   "execution_count": 5,
   "metadata": {},
   "outputs": [],
   "source": [
    "# Base class Animal\n",
    "class Animal:\n",
    "    def __init__(self, name: str, sound: str):\n",
    "        self.name = name\n",
    "        self.sound = sound\n",
    "\n",
    "    def speak(self):\n",
    "        return f\"{self.name} says {self.sound}\"\n",
    "\n",
    "# Subclass Dog inherits from Animal\n",
    "class Dog(Animal):\n",
    "    def __init__(self, name: str, breed: str):\n",
    "        # Calls 'Animal' constructor with Dog name and sound\n",
    "        # Name is given when an instance of a Dog is created, while the sound is specific to a dog\n",
    "        super().__init__(name, \"Woof\")\n",
    "        # Attributes that are specific to a dog\n",
    "        self.breed = breed\n",
    "\n",
    "    # Methods that are specific to a Dog\n",
    "    def tail_wagging(self):\n",
    "        return f\"{self.name} is wagging it's tail!\"\n",
    "\n",
    "# Subclass Bird inherits from Animal\n",
    "class Bird(Animal):\n",
    "    def __init__(self, name: str, species: str, can_fly: bool):\n",
    "        # Calls 'Animal' constructor with Bird name and sound\n",
    "        # Name is given as input, while the sound is specific to a bird\n",
    "        super().__init__(name, \"Tweet\")\n",
    "        # Attributes that are specific to a bird\n",
    "        self.species = species\n",
    "        self.can_fly = can_fly\n",
    "\n",
    "    # Methods that are specific to a Bird\n",
    "    def fly(self):\n",
    "        if self.can_fly:\n",
    "            return f\"{self.name} is flying high!\"\n",
    "        else:\n",
    "            return f\"{self.name} cannot fly.\"\n"
   ]
  },
  {
   "cell_type": "markdown",
   "metadata": {},
   "source": [
    "We can now create instances of digs and birds. To create a dog or a bird, we need to pass some values that are specified in each class's constructor"
   ]
  },
  {
   "cell_type": "code",
   "execution_count": 7,
   "metadata": {},
   "outputs": [],
   "source": [
    "# Instantiate objects of each specific animal\n",
    "dog1 = Dog(name=\"Buddy\", breed=\"Golden Retriever\")\n",
    "dog2 = Dog(name=\"Max\", breed=\"German Shepherd\")\n",
    "bird1 = Bird(name=\"Skyler\", species=\"parrot\", can_fly=True)\n",
    "bird2 = Bird(name=\"Cluckers\", species=\"chicken\", can_fly=False)"
   ]
  },
  {
   "cell_type": "markdown",
   "metadata": {},
   "source": [
    "There are some specific attributes and methods to each animal type.\n",
    "\n",
    "For instance, `breed` is an attribute of `Dog`, while `can_fly` is an attribute of a `Bird`"
   ]
  },
  {
   "cell_type": "code",
   "execution_count": 8,
   "metadata": {},
   "outputs": [
    {
     "name": "stdout",
     "output_type": "stream",
     "text": [
      "Golden Retriever\n",
      "German Shepherd\n",
      "False\n",
      "False\n"
     ]
    }
   ],
   "source": [
    "print(dog1.breed)\n",
    "print(dog2.breed)\n",
    "print(bird2.can_fly)\n",
    "print(bird2.can_fly)"
   ]
  },
  {
   "cell_type": "markdown",
   "metadata": {},
   "source": [
    "And dogs can wag their tail, while birds can or can not fly"
   ]
  },
  {
   "cell_type": "code",
   "execution_count": 9,
   "metadata": {},
   "outputs": [
    {
     "name": "stdout",
     "output_type": "stream",
     "text": [
      "Buddy is wagging it's tail!\n",
      "Max is wagging it's tail!\n",
      "--------------\n",
      "Skyler is flying high!\n",
      "Cluckers cannot fly.\n"
     ]
    }
   ],
   "source": [
    "print(dog1.tail_wagging())\n",
    "print(dog2.tail_wagging())\n",
    "\n",
    "print('--------------')\n",
    "\n",
    "print(bird1.fly())\n",
    "print(bird2.fly())"
   ]
  },
  {
   "cell_type": "markdown",
   "metadata": {},
   "source": [
    "But besided these attributes and methods specific to each type of animal, both dogs and birds have attributes and methods inherited from `Animal`.\n",
    "\n",
    "These are the `name`, the `sound` and the method `speak()`"
   ]
  },
  {
   "cell_type": "code",
   "execution_count": 10,
   "metadata": {},
   "outputs": [
    {
     "name": "stdout",
     "output_type": "stream",
     "text": [
      "Names:\n",
      "----------------\n",
      "Buddy\n",
      "Max\n",
      "Skyler\n",
      "Cluckers\n",
      "\n",
      "\n",
      "Sounds:\n",
      "----------------\n",
      "Woof\n",
      "Woof\n",
      "Tweet\n",
      "Tweet\n"
     ]
    }
   ],
   "source": [
    "# Both dogs and birds have a name because they are animals\n",
    "print('Names:')\n",
    "print('----------------')\n",
    "print(dog1.name)\n",
    "print(dog2.name)\n",
    "print(bird1.name)\n",
    "print(bird2.name)\n",
    "\n",
    "print('\\n')\n",
    "\n",
    "print('Sounds:')\n",
    "print('----------------')\n",
    "print(dog1.sound)\n",
    "print(dog2.sound)\n",
    "print(bird1.sound)\n",
    "print(bird2.sound)"
   ]
  },
  {
   "cell_type": "code",
   "execution_count": 11,
   "metadata": {},
   "outputs": [
    {
     "name": "stdout",
     "output_type": "stream",
     "text": [
      "Buddy says Woof\n",
      "Max says Woof\n",
      "Skyler says Tweet\n",
      "Cluckers says Tweet\n"
     ]
    }
   ],
   "source": [
    "# Both dogs and birds speak because they are animals\n",
    "print(dog1.speak())\n",
    "print(dog2.speak())\n",
    "print(bird1.speak())\n",
    "print(bird2.speak())"
   ]
  }
 ],
 "metadata": {
  "kernelspec": {
   "display_name": "cifo",
   "language": "python",
   "name": "python3"
  },
  "language_info": {
   "codemirror_mode": {
    "name": "ipython",
    "version": 3
   },
   "file_extension": ".py",
   "mimetype": "text/x-python",
   "name": "python",
   "nbconvert_exporter": "python",
   "pygments_lexer": "ipython3",
   "version": "3.12.9"
  }
 },
 "nbformat": 4,
 "nbformat_minor": 2
}
