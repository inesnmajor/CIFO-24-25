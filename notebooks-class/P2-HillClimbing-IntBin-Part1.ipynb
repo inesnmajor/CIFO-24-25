{
 "cells": [
  {
   "cell_type": "code",
   "execution_count": 1,
   "metadata": {},
   "outputs": [],
   "source": [
    "import sys\n",
    "sys.path.append('..')"
   ]
  },
  {
   "cell_type": "code",
   "execution_count": 4,
   "metadata": {},
   "outputs": [],
   "source": [
    "from abc import ABC, abstractmethod\n",
    "from random import randint"
   ]
  },
  {
   "cell_type": "markdown",
   "metadata": {},
   "source": [
    "## Optimization problems and algorithms"
   ]
  },
  {
   "cell_type": "markdown",
   "metadata": {},
   "source": [
    "### Optimization problem\n",
    "\n",
    "An **optimization problem** is a problem that involves finding the best solution from a set of possible solutions, according to some criteria or objective. The goal is to either **maximize** or **minimize** a particular quantity (called the **objective function**) while satisfying certain constraints.\n",
    "\n",
    "**A solution to an optimization problem is problem dependent.**"
   ]
  },
  {
   "cell_type": "markdown",
   "metadata": {},
   "source": [
    "### Optimization algorithm\n",
    "\n",
    "An **optimization algorithm** is a method used to find the best solution to an optimization problem. It is an interative algorithm that is able to return a solution at each iteration. The goal is to navigate the solution space, explore potential solutions, and ultimately identify the optimal or near-optimal solution according to the objective function.\n",
    "\n",
    "**An optimization algorithm is not problem dependent.** You can use the exact same algorithm to solve any optimization problem, as long as you know how you can navigate the solution space."
   ]
  },
  {
   "cell_type": "markdown",
   "metadata": {},
   "source": [
    "### Solution\n",
    "\n",
    "Let's start by implementig a generic `Solution` class.\n",
    "\n",
    "What should a generic solution to an optimization problem look like?\n",
    "\n",
    "Given that a solution to a problem `A` is different from a solution to a problem `B`, it is hard to characterize this generic solution. But there are some things that are common to any optimization problem solution.\n",
    "\n",
    "Let's think of attributes and methods that are common to any optimization problem.\n",
    "\n",
    "A solution must have the following attributes and methods:\n",
    "- representation: How the solution is enconded. Having a representation makes it possible for an algorithm to manipulate and evaluate the solution\n",
    "- fitness(): The function that determines how good a solution is\n",
    "- random_initial_value(): If no representation is defined for the solution, it has to be possible to initialize it randomly\n",
    "\n",
    "\n",
    "![Solution Class](images/solution.png)\n",
    "\n",
    "Since these are problem-dependent, we can not implement them now. However, we can **enforce their implementation** in any subclass by defining this class as an **abstract class** with abstract methods. To do this, the class must inherit from `ABC`. Abstract methods have no implementation in the abstract class itself, but any subclass must implement them to allow object instantiation."
   ]
  },
  {
   "cell_type": "code",
   "execution_count": null,
   "metadata": {},
   "outputs": [],
   "source": [
    "class Solution(ABC):\n",
    "    def __init__(self, repr=None):\n",
    "        # To initialize a solution we need to know it's representation. If no representation is given, a solution is randomly initialized.\n",
    "        if repr == None:\n",
    "            repr = self.random_initial_value()\n",
    "        # Attributes\n",
    "        self.repr = repr\n",
    "\n",
    "    # Method that is called when we run print(object of the class)\n",
    "    def __repr__(self):\n",
    "        return str(self.repr)\n",
    "\n",
    "    # Other methods that must be implemented in subclasses\n",
    "    @abstractmethod\n",
    "    def fitness(self):\n",
    "        pass\n",
    "\n",
    "    @abstractmethod\n",
    "    def random_initial_value():\n",
    "        pass"
   ]
  },
  {
   "cell_type": "markdown",
   "metadata": {},
   "source": [
    "The final implementation is available in `library/solution.py`"
   ]
  },
  {
   "cell_type": "markdown",
   "metadata": {},
   "source": [
    "## Hill Climbing\n",
    "\n",
    "Hill Climbing is one of the most intuitive and immediate techniques for solving optimization problems. It works by iteratively improving fitness in a stepwise refinement process, using the concept of neighborhood to explore potential solutions."
   ]
  },
  {
   "cell_type": "markdown",
   "metadata": {},
   "source": [
    "### Pseudo-code\n",
    "\n",
    "1. Initialize current solution (usually at random)\n",
    "2. Repeat\n",
    "   1. Get neighbors of current solution\n",
    "   2. Find best neighbor\n",
    "   3. If best neighbor is better or equal than current solution, replace current solution by best neighbor\n",
    "   4. If current solution hasn't changed, break the cycle\n",
    "3. Return current solution"
   ]
  },
  {
   "cell_type": "markdown",
   "metadata": {},
   "source": [
    "### Algorithm Implementation\n",
    "\n",
    "Let's implement this algorithm using python. The function that implements the algorithm should receive the following arguments:\n",
    "- `initial solution`: an instance of a solution to an optimization problem\n",
    "- `maximization`: boolean that indicates if we're solving a maximization or minimization problem\n",
    "- `max_iter`: maximum number of interations. By default should be very big."
   ]
  },
  {
   "cell_type": "code",
   "execution_count": 4,
   "metadata": {},
   "outputs": [],
   "source": [
    "#TODO: Implement hill climbing algorithm"
   ]
  },
  {
   "cell_type": "markdown",
   "metadata": {},
   "source": [
    "Notice that we assume that a solution has the following methods:\n",
    "- `fitness()`\n",
    "- `get_neighbors()`\n",
    "\n",
    "Additionally, `get_neighbors()` must return a list of solutions that also implement these methods."
   ]
  },
  {
   "cell_type": "markdown",
   "metadata": {},
   "source": [
    "The final implementation is available in `library/algorithms/hill_climbing.py`"
   ]
  },
  {
   "cell_type": "markdown",
   "metadata": {},
   "source": [
    "## IntBin Optimization Problem\n",
    "\n",
    "**Description:** The IntBin problem consists of finding the integer with greatest number of 1's in its binary representation\n",
    "\n",
    "**Search space:** Integers from 1 to 15.\n",
    "\n",
    "**Representation:** Binary string of 4 digits representing the integer.\n",
    "\n",
    "**Fitness function:** f(x)= Number of 1's in binary representation of x\n",
    "\n",
    "**Goal:** Maximize f(x)."
   ]
  },
  {
   "cell_type": "markdown",
   "metadata": {},
   "source": [
    "### IntBin Solution\n",
    "\n",
    "Using the previously defined generic `Solution`, we can now define the `IntBinSolution` class that implements the fitness and random intial value methods for the IntBin problem.\n",
    "\n",
    "This class represents a solution to the IntBin problem and **does not include any implementation related to the optimization algorithm that will be used to solve it**.\n",
    "\n",
    "![IntBin Solution](images/intbin-solution.png)"
   ]
  },
  {
   "cell_type": "code",
   "execution_count": 5,
   "metadata": {},
   "outputs": [],
   "source": [
    "#TODO: Implement IntBinSolution class"
   ]
  },
  {
   "cell_type": "markdown",
   "metadata": {},
   "source": [
    "Let's test it."
   ]
  },
  {
   "cell_type": "code",
   "execution_count": 6,
   "metadata": {},
   "outputs": [
    {
     "ename": "NameError",
     "evalue": "name 'IntBinSolution' is not defined",
     "output_type": "error",
     "traceback": [
      "\u001b[1;31m---------------------------------------------------------------------------\u001b[0m",
      "\u001b[1;31mNameError\u001b[0m                                 Traceback (most recent call last)",
      "Cell \u001b[1;32mIn[6], line 2\u001b[0m\n\u001b[0;32m      1\u001b[0m \u001b[38;5;66;03m# Intialize with representation\u001b[39;00m\n\u001b[1;32m----> 2\u001b[0m solution \u001b[38;5;241m=\u001b[39m \u001b[43mIntBinSolution\u001b[49m(\u001b[38;5;124m'\u001b[39m\u001b[38;5;124m0001\u001b[39m\u001b[38;5;124m'\u001b[39m)\n\u001b[0;32m      4\u001b[0m \u001b[38;5;66;03m# Initialize with random representation\u001b[39;00m\n\u001b[0;32m      5\u001b[0m solution_random \u001b[38;5;241m=\u001b[39m IntBinSolution()\n",
      "\u001b[1;31mNameError\u001b[0m: name 'IntBinSolution' is not defined"
     ]
    }
   ],
   "source": [
    "# Intialize with representation\n",
    "solution = IntBinSolution('0001')\n",
    "\n",
    "# Initialize with random representation\n",
    "solution_random = IntBinSolution()\n",
    "\n",
    "print(f'Solution {solution} with fitness {solution.fitness()}')\n",
    "print(f'Random solution {solution_random} with fitness {solution_random.fitness()}')"
   ]
  },
  {
   "cell_type": "markdown",
   "metadata": {},
   "source": [
    "### Solving IntBin with Hill Climbing\n",
    "\n",
    "To solve the IntBin problem using Hill Climbing, we need to define how to navigate the solution space. In hill climbing, the search space is navigated with the concept of neighborhood.\n",
    "\n",
    "The algorithm requires the solution to have a `get_neighbors()` method. Therefore, we can **extend** the `IntBinSolution` and create a `IntBinHillClimbingSolution` that implements the `get_neighbors()` method.\n",
    "\n",
    "![IntBin Hill Climbing Solution Inheritance](images/intbin-hillclimbing-solution.png)\n",
    "\n",
    "There are two options to get the neighbors of a solution:\n",
    "- Option 1 - Integer neighborhood: Each integer x has at most two neighbors: x-1 and x+1, except for boundaries (1 and 15).\n",
    "- Option 2 - Bit flip neighborhood: Each binary representation of an integer x has as neighbors any other binary with a bit flipped."
   ]
  },
  {
   "cell_type": "markdown",
   "metadata": {},
   "source": [
    "#### Option 1 - Integer neighborhood: Each integer x has at most two neighbors: x-1 and x+1, except for boundaries (1 and 15).\n",
    "\n",
    "Let's create a `IntBin_IntNeighborhood_HillClimbingSolution` class that inherits from `IntBinSolution` and implements the `get_neighbors()` method.\n",
    "\n",
    "We also need to make sure that this method return a list of IntBin solutions that also implement `get_neighbors()`, meaning it should return a list of `IntBin_IntNeighborhood_HillClimbingSolution` instances."
   ]
  },
  {
   "cell_type": "code",
   "execution_count": null,
   "metadata": {},
   "outputs": [],
   "source": [
    "#TODO: Implement IntBin_IntNeighborhood_HillClimbingSolution class"
   ]
  },
  {
   "cell_type": "markdown",
   "metadata": {},
   "source": [
    "Let's test it"
   ]
  },
  {
   "cell_type": "code",
   "execution_count": null,
   "metadata": {},
   "outputs": [],
   "source": [
    "# Initialize a random solution\n",
    "solution = IntBin_IntNeighborhood_HillClimbingSolution('1010')\n",
    "print('Solution', solution)\n",
    "\n",
    "neighbors = solution.get_neighbors()\n",
    "print('Neighbors:')\n",
    "for neighbor in neighbors:\n",
    "    print(neighbor)"
   ]
  },
  {
   "cell_type": "markdown",
   "metadata": {},
   "source": [
    "We can now apply the HillClimbing algorithm to the IntBin problem by passing it an initial solution"
   ]
  },
  {
   "cell_type": "code",
   "execution_count": null,
   "metadata": {},
   "outputs": [],
   "source": [
    "#TODO: Apply hill climbing to IntBin"
   ]
  },
  {
   "cell_type": "markdown",
   "metadata": {},
   "source": [
    "Let's see if the final solution changes with multiple runs"
   ]
  },
  {
   "cell_type": "code",
   "execution_count": null,
   "metadata": {},
   "outputs": [],
   "source": [
    "#TODO: Apply hill climbing to IntBin 10 times with differnt random initial solutions"
   ]
  },
  {
   "cell_type": "markdown",
   "metadata": {},
   "source": [
    "Different runs produce different solutions, and not always the global optimum (1111) is found"
   ]
  },
  {
   "cell_type": "markdown",
   "metadata": {},
   "source": [
    "In the next notebook, we will implement the IntBin problem using Hill Climbing, adopting Option 2 (Bit Flip Neighborhood) to explore the solution space and analyse the differences."
   ]
  }
 ],
 "metadata": {
  "kernelspec": {
   "display_name": "cifo",
   "language": "python",
   "name": "python3"
  },
  "language_info": {
   "codemirror_mode": {
    "name": "ipython",
    "version": 3
   },
   "file_extension": ".py",
   "mimetype": "text/x-python",
   "name": "python",
   "nbconvert_exporter": "python",
   "pygments_lexer": "ipython3",
   "version": "3.12.9"
  }
 },
 "nbformat": 4,
 "nbformat_minor": 2
}
