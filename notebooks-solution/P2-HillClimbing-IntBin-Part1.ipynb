{
 "cells": [
  {
   "cell_type": "code",
   "execution_count": 1,
   "metadata": {},
   "outputs": [],
   "source": [
    "import sys\n",
    "sys.path.append('..')"
   ]
  },
  {
   "cell_type": "code",
   "execution_count": 2,
   "metadata": {},
   "outputs": [],
   "source": [
    "from abc import ABC, abstractmethod\n",
    "from random import randint"
   ]
  },
  {
   "cell_type": "markdown",
   "metadata": {},
   "source": [
    "## Optimization problems and algorithms"
   ]
  },
  {
   "cell_type": "markdown",
   "metadata": {},
   "source": [
    "### Optimization problem\n",
    "\n",
    "An **optimization problem** is a problem that involves finding the best solution from a set of possible solutions, according to some criteria or objective. The goal is to either **maximize** or **minimize** a particular quantity (called the **objective function**) while satisfying certain constraints.\n",
    "\n",
    "**A solution to an optimization problem is problem dependent.**"
   ]
  },
  {
   "cell_type": "markdown",
   "metadata": {},
   "source": [
    "### Optimization algorithm\n",
    "\n",
    "An **optimization algorithm** is a method used to find the best solution to an optimization problem. It is an interative algorithm that is able to return a solution at each iteration. The goal is to navigate the solution space, explore potential solutions, and ultimately identify the optimal or near-optimal solution according to the objective function.\n",
    "\n",
    "**An optimization algorithm is not problem dependent.** You can use the exact same algorithm to solve any optimization problem, as long as you know how you can navigate the solution space."
   ]
  },
  {
   "cell_type": "markdown",
   "metadata": {},
   "source": [
    "### Solution\n",
    "\n",
    "Let's start by implementig a generic `Solution` class.\n",
    "\n",
    "What should a generic solution to an optimization problem look like?\n",
    "\n",
    "Given that a solution to a problem `A` is different from a solution to a problem `B`, it is hard to characterize this generic solution. But there are some things that are common to any optimization problem solution.\n",
    "\n",
    "Let's think of attributes and methods that are common to any optimization problem.\n",
    "\n",
    "A solution must have the following attributes and methods:\n",
    "- representation: How the solution is enconded. Having a representation makes it possible for an algorithm to manipulate and evaluate the solution\n",
    "- fitness(): The function that determines how good a solution is\n",
    "- random_initial_representation(): If no representation is defined for the solution, it has to be possible to initialize it randomly.\n",
    "    - **NOTE:** In class we called this method `random_initial_value` but `random_initial_representation` is more explicit. Let's use this name moving forward. The implementation in the library also adopts this name.\n",
    "\n",
    "\n",
    "![Solution Class](images/solution.png)\n",
    "\n",
    "Since these are problem-dependent, we can not implement them now. However, we can **enforce their implementation** in any subclass by defining this class as an **abstract class** with abstract methods. To do this, the class must inherit from `ABC`. Abstract methods have no implementation in the abstract class itself, but any subclass must implement them to allow object instantiation."
   ]
  },
  {
   "cell_type": "code",
   "execution_count": 3,
   "metadata": {},
   "outputs": [],
   "source": [
    "class Solution(ABC):\n",
    "    def __init__(self, repr=None):\n",
    "        # To initialize a solution we need to know it's representation.\n",
    "        # If no representation is given, a representation is randomly initialized.\n",
    "        if repr == None:\n",
    "            repr = self.random_initial_representation()\n",
    "        # Attributes\n",
    "        self.repr = repr\n",
    "\n",
    "    # Method that is called when we run print(object of the class)\n",
    "    def __repr__(self):\n",
    "        return str(self.repr)\n",
    "\n",
    "    # Other methods that must be implemented in subclasses\n",
    "    @abstractmethod\n",
    "    def fitness(self):\n",
    "        pass\n",
    "\n",
    "    @abstractmethod\n",
    "    def random_initial_representation():\n",
    "        pass\n"
   ]
  },
  {
   "cell_type": "markdown",
   "metadata": {},
   "source": [
    "The final implementation is available in `library/solution.py`"
   ]
  },
  {
   "cell_type": "markdown",
   "metadata": {},
   "source": [
    "## Hill Climbing\n",
    "\n",
    "Hill Climbing is one of the most intuitive and immediate techniques for solving optimization problems. It works by iteratively improving fitness in a stepwise refinement process, using the concept of neighborhood to explore potential solutions."
   ]
  },
  {
   "cell_type": "markdown",
   "metadata": {},
   "source": [
    "### Pseudo-code\n",
    "\n",
    "1. Initialize current solution (usually at random)\n",
    "2. Repeat\n",
    "   1. Get neighbors of current solution\n",
    "   2. Find best neighbor\n",
    "   3. If best neighbor is better or equal than current solution, replace current solution by best neighbor\n",
    "   4. If current solution hasn't changed, break the cycle\n",
    "3. Return current solution"
   ]
  },
  {
   "cell_type": "markdown",
   "metadata": {},
   "source": [
    "### Algorithm Implementation\n",
    "\n",
    "Let's implement this algorithm using python. The function that implements the algorithm should receive the following arguments:\n",
    "- `initial solution`: an instance of a solution to an optimization problem\n",
    "- `maximization`: boolean that indicates if we're solving a maximization or minimization problem\n",
    "- `max_iter`: maximum number of interations. By default should be very big."
   ]
  },
  {
   "cell_type": "code",
   "execution_count": 4,
   "metadata": {},
   "outputs": [],
   "source": [
    "from copy import deepcopy\n",
    "\n",
    "def hill_climbing(initial_solution: Solution, maximization=False, max_iter=99999, verbose=False):\n",
    "    current = initial_solution\n",
    "    improved = True\n",
    "    iter = 1\n",
    "\n",
    "    while improved:\n",
    "        if verbose:\n",
    "            print(f'Current solution: {current} with fitness {current.fitness()}')\n",
    "\n",
    "        improved = False\n",
    "        neighbors = current.get_neighbors()\n",
    "\n",
    "        for neighbor in neighbors:\n",
    "\n",
    "            if verbose:\n",
    "                print(f'Neighbor: {neighbor} with fitness {neighbor.fitness()}')\n",
    "\n",
    "            if maximization and (neighbor.fitness() >= current.fitness()):\n",
    "                current = deepcopy(neighbor)\n",
    "                improved = True\n",
    "            elif not maximization and (neighbor.fitness() <= current.fitness()):\n",
    "                current = deepcopy(neighbor)\n",
    "                improved = True\n",
    "        \n",
    "        iter += 1\n",
    "        if iter == max_iter:\n",
    "            break\n",
    "    \n",
    "    return current"
   ]
  },
  {
   "cell_type": "markdown",
   "metadata": {},
   "source": [
    "Notice that we assume that a solution has the following methods:\n",
    "- `fitness()`\n",
    "- `get_neighbors()`\n",
    "\n",
    "Additionally, `get_neighbors()` must return a list of solutions that also implement these methods."
   ]
  },
  {
   "cell_type": "markdown",
   "metadata": {},
   "source": [
    "The final implementation is available in `library/algorithms/hill_climbing.py`"
   ]
  },
  {
   "cell_type": "markdown",
   "metadata": {},
   "source": [
    "## IntBin Optimization Problem\n",
    "\n",
    "**Description:** The IntBin problem consists of finding the integer with greatest number of 1's in its binary representation\n",
    "\n",
    "**Search space:** Integers from 1 to 15.\n",
    "\n",
    "**Representation:** Binary string of 4 digits representing the integer.\n",
    "\n",
    "**Fitness function:** f(x)= Number of 1's in binary representation of x\n",
    "\n",
    "**Goal:** Maximize f(x)."
   ]
  },
  {
   "cell_type": "markdown",
   "metadata": {},
   "source": [
    "### IntBin Solution\n",
    "\n",
    "Using the previously defined generic `Solution`, we can now define the `IntBinSolution` class that implements the fitness and random intial representation methods for the IntBin problem.\n",
    "\n",
    "This class represents a solution to the IntBin problem and **does not include any implementation related to the optimization algorithm that will be used to solve it**.\n",
    "\n",
    "![IntBin Solution](images/intbin-solution.png)"
   ]
  },
  {
   "cell_type": "code",
   "execution_count": 5,
   "metadata": {},
   "outputs": [],
   "source": [
    "class IntBinSolution(Solution):\n",
    "    # The constructor can be ommited here since it only calls the super class constructor\n",
    "    def __init__(self, repr=None):\n",
    "        super().__init__(repr=repr)\n",
    "\n",
    "    # Override the superclass's methods\n",
    "    def random_initial_representation(self):\n",
    "        # Generate random integer between 1 and 15\n",
    "        random_n = randint(1, 15)\n",
    "        # Transform it into its binary string representation with 4 digits\n",
    "        return str(format(random_n, '04b'))\n",
    "\n",
    "    def fitness(self):\n",
    "        return self.repr.count('1')"
   ]
  },
  {
   "cell_type": "markdown",
   "metadata": {},
   "source": [
    "Let's test it."
   ]
  },
  {
   "cell_type": "code",
   "execution_count": 6,
   "metadata": {},
   "outputs": [
    {
     "name": "stdout",
     "output_type": "stream",
     "text": [
      "Solution 0001 with fitness 1\n",
      "Random solution 1101 with fitness 3\n"
     ]
    }
   ],
   "source": [
    "# Intialize with representation\n",
    "solution = IntBinSolution('0001')\n",
    "\n",
    "# Initialize with random representation\n",
    "solution_random = IntBinSolution()\n",
    "\n",
    "print(f'Solution {solution} with fitness {solution.fitness()}')\n",
    "print(f'Random solution {solution_random} with fitness {solution_random.fitness()}')"
   ]
  },
  {
   "cell_type": "markdown",
   "metadata": {},
   "source": [
    "### Solving IntBin with Hill Climbing\n",
    "\n",
    "To solve the IntBin problem using Hill Climbing, we need to define how to navigate the solution space. In hill climbing, the search space is navigated with the concept of neighborhood.\n",
    "\n",
    "The algorithm requires the solution to have a `get_neighbors()` method. Therefore, we can **extend** the `IntBinSolution` and create a `IntBinHillClimbingSolution` that implements the `get_neighbors()` method.\n",
    "\n",
    "![IntBin Hill Climbing Solution Inheritance](images/intbin-hillclimbing-solution.png)\n",
    "\n",
    "There are two options to get the neighbors of a solution:\n",
    "- Option 1 - Integer neighborhood: Each integer x has at most two neighbors: x-1 and x+1, except for boundaries (1 and 15).\n",
    "- Option 2 - Bit flip neighborhood: Each binary representation of an integer x has as neighbors any other binary with a bit flipped."
   ]
  },
  {
   "cell_type": "markdown",
   "metadata": {},
   "source": [
    "#### Option 1 - Integer neighborhood: Each integer x has at most two neighbors: x-1 and x+1, except for boundaries (1 and 15).\n",
    "\n",
    "Let's create a `IntBin_IntNeighborhood_HillClimbingSolution` class that inherits from `IntBinSolution` and implements the `get_neighbors()` method.\n",
    "\n",
    "We also need to make sure that this method return a list of IntBin solutions that also implement `get_neighbors()`, meaning it should return a list of `IntBin_IntNeighborhood_HillClimbingSolution` instances."
   ]
  },
  {
   "cell_type": "code",
   "execution_count": 11,
   "metadata": {},
   "outputs": [],
   "source": [
    "class IntBin_IntNeighborhood_HillClimbingSolution(IntBinSolution):\n",
    "    # This method must return a list of IntBin_IntNeighborhood_HillClimbingSolution objects (the neighbors)\n",
    "    def get_neighbors(self):\n",
    "        # Convert binary string representation into integer\n",
    "        int_repr = int(self.repr, 2)\n",
    "\n",
    "        if int_repr == 1:\n",
    "            return [IntBin_IntNeighborhood_HillClimbingSolution(repr=format(2, '04b'))]\n",
    "        elif int_repr == 15:\n",
    "            return [IntBin_IntNeighborhood_HillClimbingSolution(repr=format(14, '04b'))]\n",
    "        else:\n",
    "            return [\n",
    "                IntBin_IntNeighborhood_HillClimbingSolution(repr=format(int_repr-1, '04b')),\n",
    "                IntBin_IntNeighborhood_HillClimbingSolution(repr=format(int_repr+1, '04b'))\n",
    "            ]"
   ]
  },
  {
   "cell_type": "markdown",
   "metadata": {},
   "source": [
    "Let's test it"
   ]
  },
  {
   "cell_type": "code",
   "execution_count": 8,
   "metadata": {},
   "outputs": [
    {
     "name": "stdout",
     "output_type": "stream",
     "text": [
      "Solution 1010\n",
      "Neighbors:\n",
      "1001\n",
      "1011\n"
     ]
    }
   ],
   "source": [
    "# Initialize a random solution\n",
    "solution = IntBin_IntNeighborhood_HillClimbingSolution('1010')\n",
    "print('Solution', solution)\n",
    "\n",
    "neighbors = solution.get_neighbors()\n",
    "print('Neighbors:')\n",
    "for neighbor in neighbors:\n",
    "    print(neighbor)"
   ]
  },
  {
   "cell_type": "markdown",
   "metadata": {},
   "source": [
    "We can now apply the HillClimbing algorithm to the IntBin problem by passing it an initial solution"
   ]
  },
  {
   "cell_type": "code",
   "execution_count": 12,
   "metadata": {},
   "outputs": [
    {
     "name": "stdout",
     "output_type": "stream",
     "text": [
      "Current solution: 1010 with fitness 2\n",
      "Neighbor: 1001 with fitness 2\n",
      "Neighbor: 1011 with fitness 3\n",
      "Current solution: 1011 with fitness 3\n",
      "Neighbor: 1010 with fitness 2\n",
      "Neighbor: 1100 with fitness 2\n",
      "Best solution: 1011\n"
     ]
    }
   ],
   "source": [
    "# Randomly initialize a solution\n",
    "initial_solution = IntBin_IntNeighborhood_HillClimbingSolution()\n",
    "\n",
    "best_solution = hill_climbing(initial_solution, maximization=True, verbose=True)\n",
    "\n",
    "print('Best solution:', best_solution)"
   ]
  },
  {
   "cell_type": "markdown",
   "metadata": {},
   "source": [
    "Let's see if the final solution changes with multiple runs"
   ]
  },
  {
   "cell_type": "code",
   "execution_count": 16,
   "metadata": {},
   "outputs": [
    {
     "name": "stdout",
     "output_type": "stream",
     "text": [
      "Final solution: 1011\n",
      "Final solution: 0111\n",
      "Final solution: 0011\n",
      "Final solution: 0111\n",
      "Final solution: 1011\n",
      "Final solution: 0111\n",
      "Final solution: 1011\n",
      "Final solution: 0111\n",
      "Final solution: 1111\n",
      "Final solution: 1011\n"
     ]
    }
   ],
   "source": [
    "for _ in range(10):\n",
    "    initial_solution = IntBin_IntNeighborhood_HillClimbingSolution()\n",
    "    print('Final solution:', hill_climbing(initial_solution, maximization=True))"
   ]
  },
  {
   "cell_type": "markdown",
   "metadata": {},
   "source": [
    "Different runs produce different solutions, and not always the global optimum (1111) is found"
   ]
  },
  {
   "cell_type": "markdown",
   "metadata": {},
   "source": [
    "In the next notebook, we will implement the IntBin problem using Hill Climbing, adopting Option 2 (Bit Flip Neighborhood) to explore the solution space and analyse the differences."
   ]
  }
 ],
 "metadata": {
  "kernelspec": {
   "display_name": "venv",
   "language": "python",
   "name": "python3"
  },
  "language_info": {
   "codemirror_mode": {
    "name": "ipython",
    "version": 3
   },
   "file_extension": ".py",
   "mimetype": "text/x-python",
   "name": "python",
   "nbconvert_exporter": "python",
   "pygments_lexer": "ipython3",
   "version": "3.13.2"
  }
 },
 "nbformat": 4,
 "nbformat_minor": 2
}
